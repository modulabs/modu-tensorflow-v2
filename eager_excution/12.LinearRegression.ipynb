{
 "cells": [
  {
   "cell_type": "code",
   "execution_count": 1,
   "metadata": {
    "collapsed": true
   },
   "outputs": [],
   "source": [
    "import tensorflow as tf\n",
    "tf.enable_eager_execution()"
   ]
  },
  {
   "cell_type": "code",
   "execution_count": 3,
   "metadata": {},
   "outputs": [
    {
     "name": "stdout",
     "output_type": "stream",
     "text": [
      "Loss at step 000: 13.452\n",
      "Loss at step 020: 6.626\n",
      "Loss at step 040: 3.552\n",
      "Loss at step 060: 2.168\n",
      "Loss at step 080: 1.545\n",
      "Loss at step 100: 1.264\n",
      "Loss at step 120: 1.138\n",
      "Loss at step 140: 1.081\n",
      "Loss at step 160: 1.055\n",
      "Loss at step 180: 1.044\n",
      "W : 2.8810737133026123 , b  = 1.9526119232177734\n"
     ]
    }
   ],
   "source": [
    "#1000 data points \n",
    "NUM_EXAMPLES = 1000\n",
    "\n",
    "#define inputs and outputs with some noise \n",
    "X = tf.random_normal([NUM_EXAMPLES])  #inputs \n",
    "noise = tf.random_normal([NUM_EXAMPLES]) #noise \n",
    "y = X * 3 + 2 + noise  #true output\n",
    "\n",
    "#create model paramters with initial values \n",
    "W = tf.Variable(0.)\n",
    "b = tf.Variable(0.)\n",
    "\n",
    "#training info\n",
    "train_steps = 200\n",
    "learning_rate = 0.01\n",
    "\n",
    "for i in range(train_steps):\n",
    "  \n",
    "  #watch the gradient flow \n",
    "  with tf.GradientTape() as tape:\n",
    "    \n",
    "    #forward pass \n",
    "    yhat = X * W + b\n",
    "    \n",
    "    #calcuate the loss (difference squared error)\n",
    "    error = yhat - y\n",
    "    loss = tf.reduce_mean(tf.square(error))\n",
    "  \n",
    "  #evalute the gradient with the respect to the paramters\n",
    "  dW, db = tape.gradient(loss, [W, b])\n",
    "\n",
    "  #update the paramters using Gradient Descent  \n",
    "  W.assign_sub(dW * learning_rate)\n",
    "  b.assign_sub(db* learning_rate)\n",
    "\n",
    "  #print the loss every 20 iterations \n",
    "  if i % 20 == 0:\n",
    "    print(\"Loss at step {:03d}: {:.3f}\".format(i, loss))\n",
    "      \n",
    "print('W : {} , b  = {}'.format(W.numpy(),b.numpy()))"
   ]
  },
  {
   "cell_type": "code",
   "execution_count": null,
   "metadata": {
    "collapsed": true
   },
   "outputs": [],
   "source": []
  }
 ],
 "metadata": {
  "kernelspec": {
   "display_name": "Python 3",
   "language": "python",
   "name": "python3"
  },
  "language_info": {
   "codemirror_mode": {
    "name": "ipython",
    "version": 3
   },
   "file_extension": ".py",
   "mimetype": "text/x-python",
   "name": "python",
   "nbconvert_exporter": "python",
   "pygments_lexer": "ipython3",
   "version": "3.5.4"
  }
 },
 "nbformat": 4,
 "nbformat_minor": 2
}
