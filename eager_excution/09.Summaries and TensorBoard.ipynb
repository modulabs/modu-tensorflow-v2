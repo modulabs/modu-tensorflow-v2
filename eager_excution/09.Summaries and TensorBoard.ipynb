{
 "cells": [
  {
   "cell_type": "code",
   "execution_count": 1,
   "metadata": {
    "collapsed": true
   },
   "outputs": [],
   "source": [
    "from __future__ import absolute_import, division, print_function\n",
    "import tensorflow as tf\n",
    "import tensorflow.contrib.eager as tfe\n",
    "tf.enable_eager_execution()"
   ]
  },
  {
   "cell_type": "markdown",
   "metadata": {},
   "source": [
    "### Summaries and TensorBoard"
   ]
  },
  {
   "cell_type": "markdown",
   "metadata": {},
   "source": [
    "#### tf.contrib.summary eager mode와 graph 호환"
   ]
  },
  {
   "cell_type": "code",
   "execution_count": 2,
   "metadata": {},
   "outputs": [
    {
     "data": {
      "text/plain": [
       "'\\nwriter = tf.contrib.summary.crteate_file_writer(\"./logdir/\")\\nglobal_step = tf.train.get_or_create_blobal_step() # 전역 스텝 변수를 반환\\nwriter.set_as_default()\\n\\nfor _ in range(iterations):\\n  global_step.assign_add(1)\\n  # record_summaries 함수를 포함시켜야 합니다.\\n  with tf.contrib.summary.record_summaries_every_n_global_steps(100):\\n    # 사용자 모델의 코드는 여기 배치됩니다.\\n    tf.contrib.summary.scalar(\\'loss\\', loss)\\n     ...\\n'"
      ]
     },
     "execution_count": 2,
     "metadata": {},
     "output_type": "execute_result"
    }
   ],
   "source": [
    "'''\n",
    "writer = tf.contrib.summary.crteate_file_writer(\"./logdir/\")\n",
    "global_step = tf.train.get_or_create_blobal_step() # 전역 스텝 변수를 반환\n",
    "writer.set_as_default()\n",
    "\n",
    "for _ in range(iterations):\n",
    "  global_step.assign_add(1)\n",
    "  # record_summaries 함수를 포함시켜야 합니다.\n",
    "  with tf.contrib.summary.record_summaries_every_n_global_steps(100):\n",
    "    # 사용자 모델의 코드는 여기 배치됩니다.\n",
    "    tf.contrib.summary.scalar('loss', loss)\n",
    "     ...\n",
    "'''"
   ]
  },
  {
   "cell_type": "code",
   "execution_count": null,
   "metadata": {
    "collapsed": true
   },
   "outputs": [],
   "source": []
  }
 ],
 "metadata": {
  "kernelspec": {
   "display_name": "Python 3",
   "language": "python",
   "name": "python3"
  },
  "language_info": {
   "codemirror_mode": {
    "name": "ipython",
    "version": 3
   },
   "file_extension": ".py",
   "mimetype": "text/x-python",
   "name": "python",
   "nbconvert_exporter": "python",
   "pygments_lexer": "ipython3",
   "version": "3.5.4"
  }
 },
 "nbformat": 4,
 "nbformat_minor": 2
}
