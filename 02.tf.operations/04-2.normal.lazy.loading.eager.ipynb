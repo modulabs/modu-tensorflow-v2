{
 "cells": [
  {
   "cell_type": "markdown",
   "metadata": {},
   "source": [
    "# Normal and Lazy Loading in eager execution"
   ]
  },
  {
   "cell_type": "code",
   "execution_count": 1,
   "metadata": {},
   "outputs": [],
   "source": [
    "from __future__ import absolute_import\n",
    "from __future__ import division\n",
    "from __future__ import print_function\n",
    "\n",
    "import tensorflow as tf\n",
    "tf.enable_eager_execution()"
   ]
  },
  {
   "cell_type": "markdown",
   "metadata": {},
   "source": [
    "## Normal Loading\n",
    "\n",
    "* Graph 구성부분과 Session 부분을 완벽하게 분리해야 한다. (정상적인 방법 in graph execution)"
   ]
  },
  {
   "cell_type": "code",
   "execution_count": 2,
   "metadata": {},
   "outputs": [
    {
     "name": "stdout",
     "output_type": "stream",
     "text": [
      "tf.Tensor(30, shape=(), dtype=int32)\n",
      "tf.Tensor(30, shape=(), dtype=int32)\n",
      "tf.Tensor(30, shape=(), dtype=int32)\n",
      "tf.Tensor(30, shape=(), dtype=int32)\n",
      "tf.Tensor(30, shape=(), dtype=int32)\n",
      "tf.Tensor(30, shape=(), dtype=int32)\n",
      "tf.Tensor(30, shape=(), dtype=int32)\n",
      "tf.Tensor(30, shape=(), dtype=int32)\n",
      "tf.Tensor(30, shape=(), dtype=int32)\n",
      "tf.Tensor(30, shape=(), dtype=int32)\n"
     ]
    }
   ],
   "source": [
    "x = tf.Variable(10, name='x')\n",
    "y = tf.Variable(20, name='y')\n",
    "z = tf.add(x, y) # you create the node for add node before executing the graph\n",
    "\n",
    "for _ in range(10):\n",
    "  print(z)"
   ]
  },
  {
   "cell_type": "markdown",
   "metadata": {},
   "source": [
    "### Lazy Loading\n",
    "\n",
    "* Graph 구성부분과 Session 부분을 완벽하게 분리하지 않음\n",
    "* `Eager execution`에서는 상관없음"
   ]
  },
  {
   "cell_type": "code",
   "execution_count": 3,
   "metadata": {},
   "outputs": [
    {
     "name": "stdout",
     "output_type": "stream",
     "text": [
      "tf.Tensor(30, shape=(), dtype=int32)\n",
      "tf.Tensor(30, shape=(), dtype=int32)\n",
      "tf.Tensor(30, shape=(), dtype=int32)\n",
      "tf.Tensor(30, shape=(), dtype=int32)\n",
      "tf.Tensor(30, shape=(), dtype=int32)\n",
      "tf.Tensor(30, shape=(), dtype=int32)\n",
      "tf.Tensor(30, shape=(), dtype=int32)\n",
      "tf.Tensor(30, shape=(), dtype=int32)\n",
      "tf.Tensor(30, shape=(), dtype=int32)\n",
      "tf.Tensor(30, shape=(), dtype=int32)\n"
     ]
    }
   ],
   "source": [
    "# Only necessary if you use IDLE or a jupyter notebook\n",
    "tf.reset_default_graph()\n",
    "\n",
    "x = tf.Variable(10, name='x')\n",
    "y = tf.Variable(20, name='y')\n",
    "\n",
    "for _ in range(10):\n",
    "  print(tf.add(x, y))"
   ]
  }
 ],
 "metadata": {
  "kernelspec": {
   "display_name": "Python 3",
   "language": "python",
   "name": "python3"
  },
  "language_info": {
   "codemirror_mode": {
    "name": "ipython",
    "version": 3
   },
   "file_extension": ".py",
   "mimetype": "text/x-python",
   "name": "python",
   "nbconvert_exporter": "python",
   "pygments_lexer": "ipython3",
   "version": "3.6.5"
  }
 },
 "nbformat": 4,
 "nbformat_minor": 2
}
