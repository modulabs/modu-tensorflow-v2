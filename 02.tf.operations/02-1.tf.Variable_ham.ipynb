{
  "nbformat": 4,
  "nbformat_minor": 0,
  "metadata": {
    "colab": {
      "name": "tf.Variable_181019.ipynb",
      "version": "0.3.2",
      "provenance": [],
      "collapsed_sections": []
    },
    "kernelspec": {
      "name": "python3",
      "display_name": "Python 3"
    }
  },
  "cells": [
    {
      "metadata": {
        "id": "88BT-lfZhStV",
        "colab_type": "code",
        "colab": {}
      },
      "cell_type": "code",
      "source": [
        "import tensorflow as tf"
      ],
      "execution_count": 0,
      "outputs": []
    },
    {
      "metadata": {
        "id": "TVBOq_EKl4zU",
        "colab_type": "text"
      },
      "cell_type": "markdown",
      "source": [
        "## **1. Example**\n",
        "\n",
        "**tf.Variable과 tf.get_Variable의 차이점**\n",
        "\n",
        "\n",
        "1.  tf.get_variable 이 기존 변수를 가진 변수를 그래프에서 가져 tf.get_variable 여부와 관계없이 tf.Variable 은 항상 새 변수를 만든다. 존재하지 않으면 새 변수를 만든다.\n",
        "2.  tf.Variable 은 초기 값을 지정하도록 요구한다.\n",
        "3. tf.Variable 은 변수를 만들기위한 기본 연산이며 get_variable 은 주로 가중치 공유에 사용된다."
      ]
    },
    {
      "metadata": {
        "id": "pEB2e58KjfAu",
        "colab_type": "code",
        "colab": {}
      },
      "cell_type": "code",
      "source": [
        "# tf.Variable\n",
        "\n",
        "s = tf.Variable(2, name=\"scalar\") \n",
        "m = tf.Variable([[0, 1], [2, 3]], name=\"matrix\") \n",
        "W = tf.Variable(tf.zeros([784,10]))"
      ],
      "execution_count": 0,
      "outputs": []
    },
    {
      "metadata": {
        "id": "tO5Y_Ss5jgQh",
        "colab_type": "code",
        "colab": {}
      },
      "cell_type": "code",
      "source": [
        "# tf.get_variable(name, shape, initializer)\n",
        "\n",
        "s = tf.get_variable(\"scalar\", initializer=tf.constant(2)) \n",
        "m = tf.get_variable(\"matrix\", initializer=tf.constant([[0, 1], [2, 3]]))\n",
        "W = tf.get_variable(\"big_matrix\", shape=(784, 10), initializer=tf.zeros_initializer())"
      ],
      "execution_count": 0,
      "outputs": []
    },
    {
      "metadata": {
        "id": "Yc52jF-_jzgJ",
        "colab_type": "code",
        "colab": {}
      },
      "cell_type": "code",
      "source": [
        "#실패\n",
        "\n",
        "with tf.Session() as sess:\n",
        "\tprint(sess.run(W))"
      ],
      "execution_count": 0,
      "outputs": []
    },
    {
      "metadata": {
        "id": "Xv9-sKCVj8s4",
        "colab_type": "code",
        "colab": {
          "base_uri": "https://localhost:8080/",
          "height": 35
        },
        "outputId": "33b7170c-11e8-4006-ae69-3bb394859acd"
      },
      "cell_type": "code",
      "source": [
        "#성공\n",
        "\n",
        "#initializer를 사용해야 한다.\n",
        "#모든 변수를 한번에 초기화하는 방법\n",
        "with tf.Session() as sess:\n",
        "\tprint(sess.run(tf.global_variables_initializer()))"
      ],
      "execution_count": 5,
      "outputs": [
        {
          "output_type": "stream",
          "text": [
            "None\n"
          ],
          "name": "stdout"
        }
      ]
    },
    {
      "metadata": {
        "id": "eiGId9uUkQ8r",
        "colab_type": "code",
        "colab": {
          "base_uri": "https://localhost:8080/",
          "height": 35
        },
        "outputId": "010651bb-8c29-4844-9a6f-c707448035fe"
      },
      "cell_type": "code",
      "source": [
        "#변수의 하위집합만 초기화\n",
        "with tf.Session() as sess:\n",
        "\tprint(sess.run(tf.variables_initializer([s, W])))"
      ],
      "execution_count": 7,
      "outputs": [
        {
          "output_type": "stream",
          "text": [
            "None\n"
          ],
          "name": "stdout"
        }
      ]
    },
    {
      "metadata": {
        "id": "xQrYTdodkkzL",
        "colab_type": "code",
        "colab": {
          "base_uri": "https://localhost:8080/",
          "height": 161
        },
        "outputId": "775b5a10-0da4-4918-a3c4-42bc0e73feab"
      },
      "cell_type": "code",
      "source": [
        "#단일 변수 초기화\n",
        "W = tf.Variable(tf.zeros([700,10]))\n",
        "with tf.Session() as sess:\n",
        "  sess.run(W.initializer)\n",
        "  print(W)\n",
        "  print(W\\8m.eval())\t"
      ],
      "execution_count": 11,
      "outputs": [
        {
          "output_type": "stream",
          "text": [
            "<tf.Variable 'Variable_3:0' shape=(700, 10) dtype=float32_ref>\n",
            "[[0. 0. 0. ... 0. 0. 0.]\n",
            " [0. 0. 0. ... 0. 0. 0.]\n",
            " [0. 0. 0. ... 0. 0. 0.]\n",
            " ...\n",
            " [0. 0. 0. ... 0. 0. 0.]\n",
            " [0. 0. 0. ... 0. 0. 0.]\n",
            " [0. 0. 0. ... 0. 0. 0.]]\n"
          ],
          "name": "stdout"
        }
      ]
    },
    {
      "metadata": {
        "id": "XcYEzniAls2j",
        "colab_type": "text"
      },
      "cell_type": "markdown",
      "source": [
        "## **2. tf.Variable.assign()**\n",
        "\n",
        "해당 변수에 새로운 값을 할당할 수 있음"
      ]
    },
    {
      "metadata": {
        "id": "WLUB-b3ClKLh",
        "colab_type": "code",
        "colab": {
          "base_uri": "https://localhost:8080/",
          "height": 35
        },
        "outputId": "4866e68a-922d-436c-c222-7b5e70f25ac2"
      },
      "cell_type": "code",
      "source": [
        "W = tf.Variable(10)\n",
        "W.assign(100)\n",
        "with tf.Session() as sess:\n",
        "\tsess.run(W.initializer)\n",
        "\tprint(W.eval())"
      ],
      "execution_count": 12,
      "outputs": [
        {
          "output_type": "stream",
          "text": [
            "10\n"
          ],
          "name": "stdout"
        }
      ]
    },
    {
      "metadata": {
        "id": "4S6hClN8lceo",
        "colab_type": "code",
        "colab": {
          "base_uri": "https://localhost:8080/",
          "height": 35
        },
        "outputId": "3611a83e-63ee-4dad-c381-ded87f13b9ea"
      },
      "cell_type": "code",
      "source": [
        "W = tf.Variable(10)\n",
        "assign_op = W.assign(100)\n",
        "with tf.Session() as sess:\n",
        "  sess.run(W.initializer)\n",
        "  sess.run(assign_op)\n",
        "  print(W.eval())\n"
      ],
      "execution_count": 15,
      "outputs": [
        {
          "output_type": "stream",
          "text": [
            "100\n"
          ],
          "name": "stdout"
        }
      ]
    },
    {
      "metadata": {
        "id": "TBSqgG_ylnP-",
        "colab_type": "code",
        "colab": {
          "base_uri": "https://localhost:8080/",
          "height": 71
        },
        "outputId": "1bca0f95-2982-453b-893d-d1d0deb8eb7e"
      },
      "cell_type": "code",
      "source": [
        "# 오리지널 값이 2인 변수를 만든다\n",
        "my_var = tf.Variable(2, name=\"my_var\") \n",
        "\n",
        "# 원래 값에 2를 곱하고 my_var_times_two에 저장한다\n",
        "my_var_times_two = my_var.assign(2 * my_var)\n",
        "\n",
        "with tf.Session() as sess:\n",
        "\tsess.run(my_var.initializer)\n",
        "\tprint(sess.run(my_var_times_two))\n",
        "\tprint(sess.run(my_var_times_two))\n",
        "\tprint(sess.run(my_var_times_two))"
      ],
      "execution_count": 17,
      "outputs": [
        {
          "output_type": "stream",
          "text": [
            "4\n",
            "8\n",
            "16\n"
          ],
          "name": "stdout"
        }
      ]
    },
    {
      "metadata": {
        "id": "k4qRca1eqRME",
        "colab_type": "code",
        "colab": {
          "base_uri": "https://localhost:8080/",
          "height": 35
        },
        "outputId": "af7e477c-c9dc-4999-d81b-77b9d2c51483"
      },
      "cell_type": "code",
      "source": [
        "my_var = tf.Variable(10)\n",
        "with tf.Session() as sess:\n",
        "\tsess.run(my_var.initializer)\n",
        "\t\n",
        "# 10씩 증가\n",
        "\tprint(sess.run(my_var.assign_add(10)))\n",
        "# 2씩 감소 \n",
        "#  print(sess.run(my_var.assign_sub(2)))"
      ],
      "execution_count": 20,
      "outputs": [
        {
          "output_type": "stream",
          "text": [
            "20\n"
          ],
          "name": "stdout"
        }
      ]
    },
    {
      "metadata": {
        "id": "Y0OX0wE-qZzq",
        "colab_type": "code",
        "colab": {
          "base_uri": "https://localhost:8080/",
          "height": 89
        },
        "outputId": "fd6baeb7-dc50-4167-bbde-211a1a32fe51"
      },
      "cell_type": "code",
      "source": [
        "W = tf.Variable(10)\n",
        "\n",
        "sess1 = tf.Session()\n",
        "sess2 = tf.Session()\n",
        "\n",
        "sess1.run(W.initializer)\n",
        "sess2.run(W.initializer)\n",
        "\n",
        "print(sess1.run(W.assign_add(10)))\n",
        "print(sess2.run(W.assign_sub(2)))\n",
        "\n",
        "print(sess1.run(W.assign_add(100)))\n",
        "print(sess2.run(W.assign_sub(50))) \t\t\n",
        "\n",
        "sess1.close()\n",
        "sess2.close()\n"
      ],
      "execution_count": 21,
      "outputs": [
        {
          "output_type": "stream",
          "text": [
            "20\n",
            "8\n",
            "120\n",
            "-42\n"
          ],
          "name": "stdout"
        }
      ]
    }
  ]
}