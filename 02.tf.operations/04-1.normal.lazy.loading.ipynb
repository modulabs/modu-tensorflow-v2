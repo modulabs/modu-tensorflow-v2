{
 "cells": [
  {
   "cell_type": "markdown",
   "metadata": {},
   "source": [
    "# Normal and Lazy Loading"
   ]
  },
  {
   "cell_type": "code",
   "execution_count": 1,
   "metadata": {},
   "outputs": [],
   "source": [
    "from __future__ import absolute_import\n",
    "from __future__ import division\n",
    "from __future__ import print_function\n",
    "\n",
    "import tensorflow as tf\n",
    "\n",
    "sess_config = tf.ConfigProto(gpu_options=tf.GPUOptions(allow_growth=True))"
   ]
  },
  {
   "cell_type": "markdown",
   "metadata": {},
   "source": [
    "## Normal Loading\n",
    "\n",
    "* Graph 구성부분과 Session 부분을 완벽하게 분리해야한다. (정상적인 방법)"
   ]
  },
  {
   "cell_type": "code",
   "execution_count": 2,
   "metadata": {},
   "outputs": [
    {
     "name": "stdout",
     "output_type": "stream",
     "text": [
      "30\n",
      "30\n",
      "30\n",
      "30\n",
      "30\n",
      "30\n",
      "30\n",
      "30\n",
      "30\n",
      "30\n",
      "\n",
      "\n",
      "x/initial_value\n",
      "x\n",
      "x/Assign\n",
      "x/read\n",
      "y/initial_value\n",
      "y\n",
      "y/Assign\n",
      "y/read\n",
      "Add\n",
      "init\n"
     ]
    }
   ],
   "source": [
    "# Only necessary if you use IDLE or a jupyter notebook\n",
    "tf.reset_default_graph()\n",
    "\n",
    "x = tf.Variable(10, name='x')\n",
    "y = tf.Variable(20, name='y')\n",
    "z = tf.add(x, y) # you create the node for add node before executing the graph\n",
    "\n",
    "with tf.Session(config=sess_config) as sess:\n",
    "  sess.run(tf.global_variables_initializer())\n",
    "  writer = tf.summary.FileWriter('./graphs/04-1.normal.loading', sess.graph)\n",
    "  for _ in range(10):\n",
    "    print(sess.run(z))\n",
    "  writer.close()\n",
    "  print('\\n')\n",
    "\n",
    "  for node in tf.get_default_graph().as_graph_def().node:\n",
    "    print(node.name)"
   ]
  },
  {
   "cell_type": "markdown",
   "metadata": {},
   "source": [
    "### Lazy Loading\n",
    "\n",
    "* Graph 구성부분과 Session 부분을 완벽하게 분리하지 않았다.\n",
    "  * `tf.add`가 `for`문 안에서 계속 생성이 되는 구조\n",
    "  * `session`을 실행할 때 마다 새로운 노드가 추가됨\n",
    "  * 결과값에 에러는 없지만 실제로는 잘못된 코드"
   ]
  },
  {
   "cell_type": "code",
   "execution_count": 3,
   "metadata": {},
   "outputs": [
    {
     "name": "stdout",
     "output_type": "stream",
     "text": [
      "30\n",
      "30\n",
      "30\n",
      "30\n",
      "30\n",
      "30\n",
      "30\n",
      "30\n",
      "30\n",
      "30\n",
      "\n",
      "\n",
      "x/initial_value\n",
      "x\n",
      "x/Assign\n",
      "x/read\n",
      "y/initial_value\n",
      "y\n",
      "y/Assign\n",
      "y/read\n",
      "init\n",
      "Add\n",
      "Add_1\n",
      "Add_2\n",
      "Add_3\n",
      "Add_4\n",
      "Add_5\n",
      "Add_6\n",
      "Add_7\n",
      "Add_8\n",
      "Add_9\n"
     ]
    }
   ],
   "source": [
    "# Only necessary if you use IDLE or a jupyter notebook\n",
    "tf.reset_default_graph()\n",
    "\n",
    "x = tf.Variable(10, name='x')\n",
    "y = tf.Variable(20, name='y')\n",
    "\n",
    "with tf.Session(config=sess_config) as sess:\n",
    "  sess.run(tf.global_variables_initializer())\n",
    "  writer = tf.summary.FileWriter('./graphs/04-1.lazy.loading', sess.graph)\n",
    "  for _ in range(10):\n",
    "    print(sess.run(tf.add(x, y)))\n",
    "  writer.close()\n",
    "  print('\\n')\n",
    "  \n",
    "  for node in tf.get_default_graph().as_graph_def().node:\n",
    "    print(node.name)"
   ]
  }
 ],
 "metadata": {
  "kernelspec": {
   "display_name": "Python 3",
   "language": "python",
   "name": "python3"
  },
  "language_info": {
   "codemirror_mode": {
    "name": "ipython",
    "version": 3
   },
   "file_extension": ".py",
   "mimetype": "text/x-python",
   "name": "python",
   "nbconvert_exporter": "python",
   "pygments_lexer": "ipython3",
   "version": "3.6.5"
  }
 },
 "nbformat": 4,
 "nbformat_minor": 2
}
