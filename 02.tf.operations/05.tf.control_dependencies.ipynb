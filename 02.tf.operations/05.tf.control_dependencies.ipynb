{
 "cells": [
  {
   "cell_type": "markdown",
   "metadata": {},
   "source": [
    "# [`tf.control_dependencies`](https://www.tensorflow.org/api_docs/python/tf/control_dependencies)"
   ]
  },
  {
   "cell_type": "code",
   "execution_count": 1,
   "metadata": {},
   "outputs": [],
   "source": [
    "from __future__ import absolute_import\n",
    "from __future__ import division\n",
    "from __future__ import print_function\n",
    "\n",
    "import numpy as np\n",
    "import tensorflow as tf\n",
    "\n",
    "sess_config = tf.ConfigProto(gpu_options=tf.GPUOptions(allow_growth=True))"
   ]
  },
  {
   "cell_type": "markdown",
   "metadata": {},
   "source": [
    "## `tf.control_dependencies`\n",
    "\n",
    "* 뜻: 이거 하기 전에 저거 먼저 해라\n",
    "* [API 링크 1](https://www.tensorflow.org/api_docs/python/tf/control_dependencies)\n",
    "* [API 링크 2](https://www.tensorflow.org/api_docs/python/tf/Graph#control_dependencies)\n",
    "\n",
    "```python\n",
    "with tf.control_dependencies([a, b, c]):\n",
    "  # `d` and `e` will only run after `a`, `b`, and `c` have executed.\n",
    "  d = ...\n",
    "  e = ...\n",
    "```\n",
    "\n",
    "* `a`, `b`, `c`를 먼저 하고 `d`, `e`를 해라\n",
    "* `batch_normalization`을 할 때 이용함"
   ]
  },
  {
   "cell_type": "markdown",
   "metadata": {},
   "source": [
    "### Example"
   ]
  },
  {
   "cell_type": "code",
   "execution_count": 2,
   "metadata": {},
   "outputs": [
    {
     "name": "stdout",
     "output_type": "stream",
     "text": [
      "a:  5\n",
      "b:  [4 8]\n"
     ]
    }
   ],
   "source": [
    "tf.reset_default_graph()\n",
    "\n",
    "a = tf.get_variable('scalar', initializer=tf.constant(2))\n",
    "b = tf.get_variable('vector', initializer=tf.constant([2, 4]))\n",
    "a_op = a.assign_add(3)\n",
    "\n",
    "with tf.control_dependencies([a_op]):\n",
    "  # `b` 하기 전에 `a` 먼저 해라\n",
    "  b_op = b.assign(b * 2)\n",
    "\n",
    "with tf.Session(config=sess_config) as sess:\n",
    "  writer = tf.summary.FileWriter(\"./graphs/05.tf.control_dependencies.1\", sess.graph)\n",
    "  writer.close()\n",
    "\n",
    "  sess.run(tf.global_variables_initializer())\n",
    "  sess.run(b_op)\n",
    "  \n",
    "  a_out, b_out = sess.run([a, b])\n",
    "  print('a: ', a_out)\n",
    "  print('b: ', b_out)"
   ]
  },
  {
   "cell_type": "markdown",
   "metadata": {},
   "source": [
    "### Do not use `tf.control_dependencies`"
   ]
  },
  {
   "cell_type": "code",
   "execution_count": 3,
   "metadata": {},
   "outputs": [
    {
     "name": "stdout",
     "output_type": "stream",
     "text": [
      "a:  2\n",
      "b:  [4 8]\n"
     ]
    }
   ],
   "source": [
    "tf.reset_default_graph()\n",
    "\n",
    "a = tf.get_variable('scalar', initializer=tf.constant(2))\n",
    "b = tf.get_variable('vector', initializer=tf.constant([2, 4]))\n",
    "a_op = a.assign_add(3)\n",
    "\n",
    "#with tf.control_dependencies([a_op]):\n",
    "# `a`와 상관없이 그냥 `b`만 계산하기\n",
    "b_op = b.assign(b * 2)\n",
    "\n",
    "with tf.Session(config=sess_config) as sess:\n",
    "  writer = tf.summary.FileWriter(\"./graphs/05.tf.control_dependencies.2\", sess.graph)\n",
    "  writer.close()\n",
    "\n",
    "  sess.run(tf.global_variables_initializer())\n",
    "  sess.run(b_op)\n",
    "  a_out, b_out = sess.run([a, b])\n",
    "  print('a: ', a_out)\n",
    "  print('b: ', b_out)"
   ]
  },
  {
   "cell_type": "markdown",
   "metadata": {},
   "source": [
    "### Tensorboard 확인\n",
    "\n",
    "* 직접 tensorboard 열고 두 그래프를 비교"
   ]
  }
 ],
 "metadata": {
  "kernelspec": {
   "display_name": "Python 3",
   "language": "python",
   "name": "python3"
  },
  "language_info": {
   "codemirror_mode": {
    "name": "ipython",
    "version": 3
   },
   "file_extension": ".py",
   "mimetype": "text/x-python",
   "name": "python",
   "nbconvert_exporter": "python",
   "pygments_lexer": "ipython3",
   "version": "3.6.5"
  }
 },
 "nbformat": 4,
 "nbformat_minor": 2
}
