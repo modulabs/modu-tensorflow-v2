{
 "cells": [
  {
   "cell_type": "markdown",
   "metadata": {},
   "source": [
    "# `tf.constant`"
   ]
  },
  {
   "cell_type": "code",
   "execution_count": 1,
   "metadata": {},
   "outputs": [],
   "source": [
    "import tensorflow as tf\n",
    "# Graph execution examples\n",
    "#tf.enable_eager_execution()"
   ]
  },
  {
   "cell_type": "markdown",
   "metadata": {},
   "source": [
    "상수 선언 함수 <br>\n",
    "<img src=constant.png>"
   ]
  },
  {
   "cell_type": "code",
   "execution_count": null,
   "metadata": {},
   "outputs": [],
   "source": [
    "a = tf.constant([2,2], name='a')\n",
    "b = tf.constant([[0,1],[2,3]],name='b')\n",
    "x = tf.multiply(a,b,name='mul')\n",
    "with tf.Session() as sess:\n",
    "    print(sess.run(x))"
   ]
  },
  {
   "cell_type": "markdown",
   "metadata": {},
   "source": [
    "##  초기값 할당"
   ]
  },
  {
   "cell_type": "markdown",
   "metadata": {},
   "source": [
    "###  0으로 할당"
   ]
  },
  {
   "cell_type": "code",
   "execution_count": 2,
   "metadata": {},
   "outputs": [
    {
     "data": {
      "text/plain": [
       "'\\ntf.zeros(shape, dtype, name)\\ntf.zeros_like(input_tensor, dtype=None,name)\\n'"
      ]
     },
     "execution_count": 2,
     "metadata": {},
     "output_type": "execute_result"
    }
   ],
   "source": [
    "'''\n",
    "tf.zeros(shape, dtype, name)\n",
    "tf.zeros_like(input_tensor, dtype=None,name)\n",
    "'''"
   ]
  },
  {
   "cell_type": "code",
   "execution_count": 3,
   "metadata": {},
   "outputs": [
    {
     "data": {
      "text/plain": [
       "<tf.Tensor 'zeros:0' shape=(2, 3) dtype=int32>"
      ]
     },
     "execution_count": 3,
     "metadata": {},
     "output_type": "execute_result"
    }
   ],
   "source": [
    "# zero fill\n",
    "tf.zeros([2,3], tf.int32) # ==> [[0,0,0],[0,0,0]]"
   ]
  },
  {
   "cell_type": "code",
   "execution_count": 4,
   "metadata": {},
   "outputs": [
    {
     "data": {
      "text/plain": [
       "<tf.Tensor 'zeros_like:0' shape=(3, 2) dtype=int32>"
      ]
     },
     "execution_count": 4,
     "metadata": {},
     "output_type": "execute_result"
    }
   ],
   "source": [
    "input_tensor = tf.constant([[0,1],[2,3],[4,5]], name='input_tensor')\n",
    "tf.zeros_like(input_tensor) #==> [[0,0],[0,0],[0,0]]"
   ]
  },
  {
   "cell_type": "markdown",
   "metadata": {},
   "source": [
    "### 1 할당"
   ]
  },
  {
   "cell_type": "code",
   "execution_count": 5,
   "metadata": {},
   "outputs": [
    {
     "data": {
      "text/plain": [
       "'\\ntf.ones(shape, dtype, name)\\ntf.one_like(input_tensor, dtype, name)\\n'"
      ]
     },
     "execution_count": 5,
     "metadata": {},
     "output_type": "execute_result"
    }
   ],
   "source": [
    "'''\n",
    "tf.ones(shape, dtype, name)\n",
    "tf.one_like(input_tensor, dtype, name)\n",
    "'''"
   ]
  },
  {
   "cell_type": "code",
   "execution_count": 6,
   "metadata": {},
   "outputs": [
    {
     "data": {
      "text/plain": [
       "<tf.Tensor 'zeros_like_1:0' shape=(3, 2) dtype=int32>"
      ]
     },
     "execution_count": 6,
     "metadata": {},
     "output_type": "execute_result"
    }
   ],
   "source": [
    "# 1 fill\n",
    "tf.ones([2,3], tf.int32) # ==> [[1,1,1],[1,1,1]]\n",
    "input_tensor2 = tf.constant([[0,1],[2,3],[4,5]], name='input_tensor2')\n",
    "tf.zeros_like(input_tensor2) #==> [[1,1],[1,1],[1,1]]"
   ]
  },
  {
   "cell_type": "markdown",
   "metadata": {},
   "source": [
    "### 특정값 할당"
   ]
  },
  {
   "cell_type": "code",
   "execution_count": 7,
   "metadata": {},
   "outputs": [
    {
     "data": {
      "text/plain": [
       "'\\ntf.fill(dims, value, name)\\n'"
      ]
     },
     "execution_count": 7,
     "metadata": {},
     "output_type": "execute_result"
    }
   ],
   "source": [
    "'''\n",
    "tf.fill(dims, value, name)\n",
    "'''"
   ]
  },
  {
   "cell_type": "code",
   "execution_count": 8,
   "metadata": {},
   "outputs": [
    {
     "data": {
      "text/plain": [
       "<tf.Tensor 'Fill:0' shape=(2, 3) dtype=int32>"
      ]
     },
     "execution_count": 8,
     "metadata": {},
     "output_type": "execute_result"
    }
   ],
   "source": [
    "tf.fill([2,3], 8) #==> [[8,8,8],[8,8,8]]"
   ]
  },
  {
   "cell_type": "markdown",
   "metadata": {},
   "source": [
    "### lin_space "
   ]
  },
  {
   "cell_type": "code",
   "execution_count": 12,
   "metadata": {},
   "outputs": [
    {
     "data": {
      "text/plain": [
       "'\\ntf.lin_space(start, stop, num, name=None)\\n'"
      ]
     },
     "execution_count": 12,
     "metadata": {},
     "output_type": "execute_result"
    }
   ],
   "source": [
    "'''\n",
    "tf.lin_space(start, stop, num, name=None)\n",
    "'''"
   ]
  },
  {
   "cell_type": "code",
   "execution_count": 13,
   "metadata": {},
   "outputs": [],
   "source": [
    "#tf.lin_space(start, stop, num, name=None)\n",
    "# start -> stop\n",
    "lin_space = tf.linspace(start=10.0,stop=13.0, num=4, name='lin_spae') # ==> [10. 11. 12. 13.]"
   ]
  },
  {
   "cell_type": "code",
   "execution_count": 14,
   "metadata": {},
   "outputs": [
    {
     "name": "stdout",
     "output_type": "stream",
     "text": [
      "[10. 11. 12. 13.]\n"
     ]
    }
   ],
   "source": [
    "with tf.Session() as sess:\n",
    "    print(sess.run(lin_space))"
   ]
  },
  {
   "cell_type": "code",
   "execution_count": 15,
   "metadata": {},
   "outputs": [
    {
     "name": "stdout",
     "output_type": "stream",
     "text": [
      "[array([11.      , 11.666667, 12.333333, 13.      ], dtype=float32), array([[8, 8, 8],\n",
      "       [8, 8, 8]], dtype=int32)]\n"
     ]
    }
   ],
   "source": [
    "lin_space = tf.linspace(start=11.0,stop=13.0, num=4, name='lin_spae') # ==> [10. 11. 12. 13.]\n",
    "fill = tf.fill([2,3], 8, name='fill') \n",
    "with tf.Session() as sess:\n",
    "    print(sess.run([lin_space, fill]))\n"
   ]
  },
  {
   "cell_type": "markdown",
   "metadata": {},
   "source": [
    "### 범위 값 할당"
   ]
  },
  {
   "cell_type": "code",
   "execution_count": 16,
   "metadata": {},
   "outputs": [
    {
     "data": {
      "text/plain": [
       "'\\ntf.range(start, limit=None, delta=1, dtype=None, name=None)\\n'"
      ]
     },
     "execution_count": 16,
     "metadata": {},
     "output_type": "execute_result"
    }
   ],
   "source": [
    "'''\n",
    "tf.range(start, limit=None, delta=1, dtype=None, name=None)\n",
    "'''"
   ]
  },
  {
   "cell_type": "code",
   "execution_count": 17,
   "metadata": {},
   "outputs": [
    {
     "name": "stdout",
     "output_type": "stream",
     "text": [
      "[array([0, 2, 4, 6, 8], dtype=int32)]\n"
     ]
    }
   ],
   "source": [
    "range = tf.range(0,10,2, name='range')\n",
    "with tf.Session() as sess:\n",
    "    print(sess.run([range]))"
   ]
  },
  {
   "cell_type": "markdown",
   "metadata": {},
   "source": [
    "### Random 값 할당"
   ]
  },
  {
   "cell_type": "markdown",
   "metadata": {},
   "source": [
    "#### tf.random_normal\n",
    "#### tf.truncated_normal\n",
    "#### tf.random_uniform\n",
    "#### tf.random_shuffle\n",
    "#### tf.random_crop\n",
    "#### tf.multinomial\n",
    "#### tf.random_gamma"
   ]
  },
  {
   "cell_type": "markdown",
   "metadata": {},
   "source": [
    "Random을 수행하기 전에 초기화 </br>\n",
    "tf.set_random_seed(seed)"
   ]
  },
  {
   "cell_type": "code",
   "execution_count": 18,
   "metadata": {},
   "outputs": [
    {
     "name": "stdout",
     "output_type": "stream",
     "text": [
      "[array([[-1.3524637 ,  0.26046416],\n",
      "       [ 1.57836   , -0.34923676]], dtype=float32)]\n"
     ]
    }
   ],
   "source": [
    "rand = tf.random_normal([2,2], mean=0.0, stddev=1.0, dtype=tf.float32, seed=41, name = 'rand')\n",
    "with tf.Session() as sess:\n",
    "    print(sess.run([rand]))"
   ]
  },
  {
   "cell_type": "code",
   "execution_count": null,
   "metadata": {},
   "outputs": [],
   "source": []
  }
 ],
 "metadata": {
  "kernelspec": {
   "display_name": "Python 3",
   "language": "python",
   "name": "python3"
  },
  "language_info": {
   "codemirror_mode": {
    "name": "ipython",
    "version": 3
   },
   "file_extension": ".py",
   "mimetype": "text/x-python",
   "name": "python",
   "nbconvert_exporter": "python",
   "pygments_lexer": "ipython3",
   "version": "3.6.6"
  }
 },
 "nbformat": 4,
 "nbformat_minor": 2
}
