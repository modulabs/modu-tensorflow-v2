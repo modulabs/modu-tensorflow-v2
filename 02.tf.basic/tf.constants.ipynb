{
 "cells": [
  {
   "cell_type": "markdown",
   "metadata": {},
   "source": [
    "# Tensorflow 상수 선언"
   ]
  },
  {
   "cell_type": "code",
   "execution_count": 2,
   "metadata": {},
   "outputs": [],
   "source": [
    "import tensorflow as tf "
   ]
  },
  {
   "cell_type": "markdown",
   "metadata": {},
   "source": [
    "상수 선언 함수 <br>\n",
    "<img src=constant.png>"
   ]
  },
  {
   "cell_type": "code",
   "execution_count": 5,
   "metadata": {},
   "outputs": [
    {
     "name": "stdout",
     "output_type": "stream",
     "text": [
      "[[0 2]\n",
      " [4 6]]\n"
     ]
    }
   ],
   "source": [
    "a = tf.constant([2,2], name='a')\n",
    "b = tf.constant([[0,1],[2,3]],name='b')\n",
    "x = tf.multiply(a,b,name='mul')\n",
    "with tf.Session() as sess:\n",
    "    print(sess.run(x))"
   ]
  },
  {
   "cell_type": "markdown",
   "metadata": {},
   "source": [
    "## 초기값 주기"
   ]
  },
  {
   "cell_type": "markdown",
   "metadata": {},
   "source": [
    "## 0 \n",
    "### tf.zeros(shape, dtype=tf.float32, name=None)\n",
    "### tf.zeros_like(input_tensor, dtype=None, name=None, optimize=True)"
   ]
  },
  {
   "cell_type": "code",
   "execution_count": 8,
   "metadata": {},
   "outputs": [
    {
     "data": {
      "text/plain": [
       "<tf.Tensor 'zeros_1:0' shape=(2, 3) dtype=int32>"
      ]
     },
     "execution_count": 8,
     "metadata": {},
     "output_type": "execute_result"
    }
   ],
   "source": [
    "# zero fill\n",
    "tf.zeros([2,3], tf.int32) # ==> [[0,0,0],[0,0,0]]"
   ]
  },
  {
   "cell_type": "code",
   "execution_count": 9,
   "metadata": {},
   "outputs": [
    {
     "data": {
      "text/plain": [
       "<tf.Tensor 'zeros_like_1:0' shape=(3, 2) dtype=int32>"
      ]
     },
     "execution_count": 9,
     "metadata": {},
     "output_type": "execute_result"
    }
   ],
   "source": [
    "input_tensor = tf.constant([[0,1],[2,3],[4,5]], name='input_tensor')\n",
    "tf.zeros_like(input_tensor) #==> [[0,0],[0,0],[0,0]]"
   ]
  },
  {
   "cell_type": "markdown",
   "metadata": {},
   "source": [
    "## 1\n",
    "### tf.ones(shape, dtype=tf.float32, name=None)\n",
    "### tf.one_like(input_tensor, dtype=None, name=None, optimize=True)"
   ]
  },
  {
   "cell_type": "code",
   "execution_count": 10,
   "metadata": {},
   "outputs": [
    {
     "data": {
      "text/plain": [
       "<tf.Tensor 'zeros_like_2:0' shape=(3, 2) dtype=int32>"
      ]
     },
     "execution_count": 10,
     "metadata": {},
     "output_type": "execute_result"
    }
   ],
   "source": [
    "# 1 fill\n",
    "tf.ones([2,3], tf.int32) # ==> [[1,1,1],[1,1,1]]\n",
    "input_tensor2 = tf.constant([[0,1],[2,3],[4,5]], name='input_tensor2')\n",
    "tf.zeros_like(input_tensor2) #==> [[1,1],[1,1],[1,1]]"
   ]
  },
  {
   "cell_type": "markdown",
   "metadata": {},
   "source": [
    "## fill with specific value\n",
    "### tf.fill(dims, value, name=None)"
   ]
  },
  {
   "cell_type": "code",
   "execution_count": 11,
   "metadata": {},
   "outputs": [
    {
     "data": {
      "text/plain": [
       "<tf.Tensor 'Fill:0' shape=(2, 3) dtype=int32>"
      ]
     },
     "execution_count": 11,
     "metadata": {},
     "output_type": "execute_result"
    }
   ],
   "source": [
    "tf.fill([2,3], 8) #==> [[8,8,8],[8,8,8]]"
   ]
  },
  {
   "cell_type": "markdown",
   "metadata": {},
   "source": [
    "## tf.lin_space(start, stop, num, name=None)"
   ]
  },
  {
   "cell_type": "code",
   "execution_count": 16,
   "metadata": {},
   "outputs": [],
   "source": [
    "#tf.lin_space(start, stop, num, name=None)\n",
    "# start -> stop\n",
    "lin_space = tf.linspace(start=10.0,stop=13.0, num=4, name='lin_spae') # ==> [10. 11. 12. 13.]"
   ]
  },
  {
   "cell_type": "code",
   "execution_count": 18,
   "metadata": {},
   "outputs": [
    {
     "name": "stdout",
     "output_type": "stream",
     "text": [
      "[10. 11. 12. 13.]\n"
     ]
    }
   ],
   "source": [
    "with tf.Session() as sess:\n",
    "    print(sess.run(lin_space))"
   ]
  },
  {
   "cell_type": "code",
   "execution_count": 21,
   "metadata": {},
   "outputs": [
    {
     "name": "stdout",
     "output_type": "stream",
     "text": [
      "[array([11.      , 11.666667, 12.333333, 13.      ], dtype=float32), array([[8, 8, 8],\n",
      "       [8, 8, 8]], dtype=int32)]\n"
     ]
    }
   ],
   "source": [
    "lin_space = tf.linspace(start=11.0,stop=13.0, num=4, name='lin_spae') # ==> [10. 11. 12. 13.]\n",
    "fill = tf.fill([2,3], 8, name='fill') \n",
    "with tf.Session() as sess:\n",
    "    print(sess.run([lin_space, fill]))\n",
    "print(\"test\")"
   ]
  },
  {
   "cell_type": "markdown",
   "metadata": {},
   "source": [
    "## tf.range(start, limit=None, delta=1, dtype=None, name=None)"
   ]
  },
  {
   "cell_type": "code",
   "execution_count": 22,
   "metadata": {},
   "outputs": [
    {
     "name": "stdout",
     "output_type": "stream",
     "text": [
      "[array([0, 2, 4, 6, 8], dtype=int32)]\n"
     ]
    }
   ],
   "source": [
    "range = tf.range(0,10,2, name='range')\n",
    "with tf.Session() as sess:\n",
    "    print(sess.run([range]))"
   ]
  },
  {
   "cell_type": "code",
   "execution_count": 23,
   "metadata": {},
   "outputs": [],
   "source": [
    "#for _ in tf.range(4): # TypeError"
   ]
  },
  {
   "cell_type": "markdown",
   "metadata": {},
   "source": [
    "# Random"
   ]
  },
  {
   "cell_type": "markdown",
   "metadata": {},
   "source": [
    "## tf.random_normal\n",
    "## tf.truncated_normal\n",
    "## tf.random_uniform\n",
    "## tf.random_shuffle\n",
    "## tf.random_crop\n",
    "## tf.multinomial\n",
    "## tf.random_gamma"
   ]
  },
  {
   "cell_type": "markdown",
   "metadata": {},
   "source": [
    "## before random\n",
    "## do tf.set_random_seed(seed)"
   ]
  },
  {
   "cell_type": "code",
   "execution_count": 25,
   "metadata": {},
   "outputs": [
    {
     "name": "stdout",
     "output_type": "stream",
     "text": [
      "[array([[-1.3524637 ,  0.26046416],\n",
      "       [ 1.57836   , -0.34923676]], dtype=float32)]\n"
     ]
    }
   ],
   "source": [
    "rand = tf.random_normal([2,2], mean=0.0, stddev=1.0, dtype=tf.float32, seed=41, name = 'rand')\n",
    "with tf.Session() as sess:\n",
    "    print(sess.run([rand]))"
   ]
  },
  {
   "cell_type": "markdown",
   "metadata": {},
   "source": [
    "# What's wrong with constants?"
   ]
  },
  {
   "cell_type": "markdown",
   "metadata": {},
   "source": [
    "## print out the graph def "
   ]
  },
  {
   "cell_type": "markdown",
   "metadata": {},
   "source": [
    "### 상수가 클 경우 그래프 로딩 비용이 커지게 된다. \n",
    "### --> primitive type만을 이용하며, 메모리상에서 더 많은 용량을 요구한다"
   ]
  },
  {
   "cell_type": "code",
   "execution_count": null,
   "metadata": {},
   "outputs": [],
   "source": []
  }
 ],
 "metadata": {
  "kernelspec": {
   "display_name": "Python 3",
   "language": "python",
   "name": "python3"
  },
  "language_info": {
   "codemirror_mode": {
    "name": "ipython",
    "version": 3
   },
   "file_extension": ".py",
   "mimetype": "text/x-python",
   "name": "python",
   "nbconvert_exporter": "python",
   "pygments_lexer": "ipython3",
   "version": "3.6.6"
  }
 },
 "nbformat": 4,
 "nbformat_minor": 1
}
