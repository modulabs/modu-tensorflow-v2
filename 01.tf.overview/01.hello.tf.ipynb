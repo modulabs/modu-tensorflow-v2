{
 "cells": [
  {
   "cell_type": "markdown",
   "metadata": {},
   "source": [
    "# TensorFlow 기본 구조 이해"
   ]
  },
  {
   "cell_type": "code",
   "execution_count": 1,
   "metadata": {},
   "outputs": [
    {
     "name": "stdout",
     "output_type": "stream",
     "text": [
      "TensorFlow version: 1.11.0\n"
     ]
    }
   ],
   "source": [
    "import tensorflow as tf\n",
    "\n",
    "print(\"TensorFlow version: {}\".format(tf.VERSION))"
   ]
  },
  {
   "cell_type": "markdown",
   "metadata": {},
   "source": [
    "## TensorFlow Programming Stack\n",
    "\n",
    "<img src=\"https://user-images.githubusercontent.com/11681225/46912209-324b8480-cfaa-11e8-9a30-6cd327841470.png\" width=\"70%\">"
   ]
  },
  {
   "cell_type": "markdown",
   "metadata": {},
   "source": [
    "## Execution Style\n",
    "\n",
    "* [Eager execution](https://www.tensorflow.org/get_started/eager)\n",
    "  * 최근에 나온 방식\n",
    "  * 변수값을 바로 확인할 수 있음\n",
    "  * 마치 `numpy` 짜듯이 짤 수 있음\n",
    "  * 향후 **TF version 2.0에 기본** 이 될 예정\n",
    "* [Graph execution](https://www.tensorflow.org/get_started/get_started_for_beginners)\n",
    "  * TensorFlow 초창기 구현 방법\n",
    "  * 여전히 많이 이용하고 있음\n",
    "  * 속도면에서 아직 `eager`모드보다 우위에 있음\n",
    "  * **Graph 선언부분과 실행(Session)하는 부분이 분리** 되어 있음\n",
    "    * Phase1: Graph 선언\n",
    "    * Phase2: Session"
   ]
  },
  {
   "cell_type": "markdown",
   "metadata": {},
   "source": [
    "### Phase1: Graph 생성\n",
    "\n",
    "* 변수를 생성하고 계산을 한다는 것은 그래프를 만드는 과정\n",
    "* `a`를 출력하면 **계산된 값**이 나오지 않음\n",
    "\n",
    "<img width=\"60%\" alt=\"tf_graph\" src=\"https://user-images.githubusercontent.com/11681225/46912242-f95fdf80-cfaa-11e8-8e1c-00af08c281dc.png\">"
   ]
  },
  {
   "cell_type": "code",
   "execution_count": 2,
   "metadata": {},
   "outputs": [
    {
     "name": "stdout",
     "output_type": "stream",
     "text": [
      "Tensor(\"Add:0\", shape=(), dtype=int32)\n"
     ]
    }
   ],
   "source": [
    "a = tf.add(3, 5)\n",
    "print(a)"
   ]
  },
  {
   "cell_type": "markdown",
   "metadata": {},
   "source": [
    "* `a = 3 + 5`의 의미\n",
    "* `a`를 출력하면 8이 나오는게 일반적인 프로그래밍 스타일\n",
    "* TensorFlow는 위의 단계 (Graph를 만드는 과정) 에서는 값이 출력되지 않음\n",
    "  * 출력하면 (name, shape, type) 의 정보가 나옴 (값이 아닌 것에 유의)\n",
    "* Graph를 만든다는 의미는 TF 내부에서 실제로 연산을 밑의 그림처럼 구성한다는 뜻"
   ]
  },
  {
   "cell_type": "markdown",
   "metadata": {},
   "source": [
    "<img width=\"40%\" alt=\"tf_add1\" src=\"https://user-images.githubusercontent.com/11681225/46912252-43e15c00-cfab-11e8-9488-bc5c6bccab0b.png\">"
   ]
  },
  {
   "cell_type": "markdown",
   "metadata": {},
   "source": [
    "### Phase2: Session 실행\n",
    "\n",
    "* 위의 과정은 그래프 형태만 만들어놓음\n",
    "* 실제 계산은 `tf.Session()`을 실행하여 계산함\n",
    "* 마치 파이프에 물(데이터)을 흘려보내는 것과 비슷함\n",
    "* `tf.Session()`을 열면 TF default로 GPU 메모리를 다 잡아버림\n",
    "  * 그것을 방지하기 위해 `gpu_options`을 다음과 같이 준다\n",
    "* GPU 사용량 확인하는 명령어\n",
    "  * `nvidia-smi`\n",
    "  * `watch`라는 명령어와 함께 쓰면 계속 갱신하면서 메모리 변화를 볼 수 있음\n",
    "    * `watch -n 1 nvidia-smi`"
   ]
  },
  {
   "cell_type": "code",
   "execution_count": 3,
   "metadata": {},
   "outputs": [
    {
     "name": "stdout",
     "output_type": "stream",
     "text": [
      "8\n"
     ]
    }
   ],
   "source": [
    "sess_config = tf.ConfigProto(gpu_options=tf.GPUOptions(allow_growth=True))\n",
    "#sess = tf.Session()\n",
    "sess = tf.Session(config=sess_config)\n",
    "print(sess.run(a))\n",
    "sess.close()"
   ]
  },
  {
   "cell_type": "markdown",
   "metadata": {},
   "source": [
    "<img width=\"40%\" alt=\"tf_add2\" src=\"https://user-images.githubusercontent.com/11681225/46912254-66737500-cfab-11e8-87e1-1d8364f5cc70.png\">"
   ]
  },
  {
   "cell_type": "markdown",
   "metadata": {},
   "source": [
    "### `tf.Session()`을 `with` 구문으로\n",
    "\n",
    "* `session`을 열면 `sess.close()`로 명시적으로 닫아줘야 한다.\n",
    "* `with` 구문이 끝나면 알아서 `session`이 닫힌다."
   ]
  },
  {
   "cell_type": "code",
   "execution_count": 4,
   "metadata": {},
   "outputs": [
    {
     "name": "stdout",
     "output_type": "stream",
     "text": [
      "8\n"
     ]
    }
   ],
   "source": [
    "with tf.Session(config=sess_config) as sess:\n",
    "  print(sess.run(a))"
   ]
  },
  {
   "cell_type": "code",
   "execution_count": 5,
   "metadata": {},
   "outputs": [
    {
     "name": "stdout",
     "output_type": "stream",
     "text": [
      "8\n"
     ]
    }
   ],
   "source": [
    "with tf.Session(config=sess_config) as sess:\n",
    "  print(a.eval())"
   ]
  },
  {
   "cell_type": "markdown",
   "metadata": {},
   "source": [
    "* `with tf.Session()` 구문 안에서는 `sess.run()`대신 `eval()`을 쓸 수 있다"
   ]
  },
  {
   "cell_type": "markdown",
   "metadata": {},
   "source": [
    "### `tf.InteractiveSession()`\n",
    "\n",
    "* `tf.InteractiveSession()`에서는 세션 객체를 계속 참조하지 않고 값을 볼 수 있다."
   ]
  },
  {
   "cell_type": "code",
   "execution_count": 6,
   "metadata": {},
   "outputs": [
    {
     "name": "stdout",
     "output_type": "stream",
     "text": [
      "8\n"
     ]
    }
   ],
   "source": [
    "sess = tf.InteractiveSession(config=sess_config)\n",
    "print(a.eval())"
   ]
  },
  {
   "cell_type": "markdown",
   "metadata": {},
   "source": [
    "### 약간 더 복잡한 계산"
   ]
  },
  {
   "cell_type": "code",
   "execution_count": 7,
   "metadata": {},
   "outputs": [
    {
     "name": "stdout",
     "output_type": "stream",
     "text": [
      "Tensor(\"Pow:0\", shape=(), dtype=int32)\n",
      "7776\n"
     ]
    }
   ],
   "source": [
    "x = 2\n",
    "y = 3\n",
    "w = tf.add(x, y)\n",
    "z = tf.multiply(x, y)\n",
    "p = tf.pow(z, w)\n",
    "print(p)\n",
    "with tf.Session(config=sess_config) as sess:\n",
    "  print(sess.run(p))"
   ]
  },
  {
   "cell_type": "markdown",
   "metadata": {},
   "source": [
    "<img width=\"60%\" alt=\"tf_more_calculation\" src=\"https://user-images.githubusercontent.com/11681225/46912256-7db26280-cfab-11e8-903c-087f9a2688aa.png\">"
   ]
  }
 ],
 "metadata": {
  "kernelspec": {
   "display_name": "Python 3",
   "language": "python",
   "name": "python3"
  },
  "language_info": {
   "codemirror_mode": {
    "name": "ipython",
    "version": 3
   },
   "file_extension": ".py",
   "mimetype": "text/x-python",
   "name": "python",
   "nbconvert_exporter": "python",
   "pygments_lexer": "ipython3",
   "version": "3.6.5"
  }
 },
 "nbformat": 4,
 "nbformat_minor": 2
}
