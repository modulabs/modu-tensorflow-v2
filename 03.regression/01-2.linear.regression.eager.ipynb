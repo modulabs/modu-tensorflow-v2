{
 "cells": [
  {
   "cell_type": "markdown",
   "metadata": {},
   "source": [
    "# Linear Regression in eager mode"
   ]
  },
  {
   "cell_type": "code",
   "execution_count": 1,
   "metadata": {},
   "outputs": [],
   "source": [
    "import time\n",
    "import numpy as np\n",
    "import matplotlib.pyplot as plt\n",
    "import tensorflow as tf\n",
    "sess_config = tf.ConfigProto(gpu_options=tf.GPUOptions(allow_growth=True))"
   ]
  },
  {
   "cell_type": "code",
   "execution_count": 2,
   "metadata": {},
   "outputs": [],
   "source": [
    "tf.enable_eager_execution()"
   ]
  },
  {
   "cell_type": "code",
   "execution_count": 3,
   "metadata": {},
   "outputs": [],
   "source": [
    "def read_birth_life_data(filename):\n",
    "    \"\"\"Read in birth_life_2010.txt and return:\n",
    "    data in the form of NumPy array\n",
    "    n_samples: number of samples\n",
    "    \"\"\"\n",
    "    text = open(filename, 'r').readlines()[1:]\n",
    "    data = [line[:-1].split('\\t') for line in text]\n",
    "    births = [float(line[1]) for line in data]\n",
    "    lifes = [float(line[2]) for line in data]\n",
    "    data = list(zip(births, lifes))\n",
    "    n_samples = len(data)\n",
    "    data = np.asarray(data, dtype=np.float32)\n",
    "    return data, n_samples"
   ]
  },
  {
   "cell_type": "code",
   "execution_count": 4,
   "metadata": {},
   "outputs": [
    {
     "name": "stdout",
     "output_type": "stream",
     "text": [
      "data.shape: (190, 2)\n",
      "\n",
      "[[ 1.822    74.82825 ]\n",
      " [ 3.869    70.81949 ]\n",
      " [ 3.911    72.15066 ]\n",
      " [ 5.578    61.999855]\n",
      " [ 1.579    73.92766 ]\n",
      " [ 4.229    67.465195]\n",
      " [ 1.15     81.641464]\n",
      " [ 3.86     72.30639 ]\n",
      " [ 3.142    68.484314]\n",
      " [ 3.951    62.44061 ]\n",
      " [ 2.16     80.70244 ]\n",
      " [ 2.141    76.30168 ]\n",
      " [ 2.002    64.662094]\n",
      " [ 2.504    68.19498 ]\n",
      " [ 3.451    68.76483 ]\n",
      " [ 2.635    74.02456 ]\n",
      " [ 1.092    80.775314]\n",
      " [ 2.747    67.064   ]\n",
      " [ 1.22     80.76195 ]\n",
      " [ 1.39     82.932686]\n",
      " [ 2.117    68.889656]\n",
      " [ 1.108    82.87805 ]\n",
      " [ 2.47     75.99427 ]\n",
      " [ 2.09     75.07688 ]\n",
      " [ 2.668    69.22583 ]\n",
      " [ 2.022    68.53214 ]\n",
      " [ 1.598    73.273094]\n",
      " [ 2.581    62.53622 ]\n",
      " [ 2.042    77.93202 ]\n",
      " [ 1.92     81.69512 ]\n",
      " [ 2.499    68.001   ]\n",
      " [ 1.94     80.402435]\n",
      " [ 1.445    70.27561 ]\n",
      " [ 2.399    64.86351 ]\n",
      " [ 2.088    73.696655]\n",
      " [ 3.297    67.2599  ]\n",
      " [ 1.5      82.24634 ]\n",
      " [ 1.98     81.45122 ]\n",
      " [ 1.39     81.62683 ]\n",
      " [ 1.57     79.42195 ]\n",
      " [ 1.4      75.1122  ]\n",
      " [ 1.4      73.936584]\n",
      " [ 1.54     68.80488 ]\n",
      " [ 1.38     73.458534]\n",
      " [ 1.32     79.02683 ]\n",
      " [ 1.38     76.24634 ]\n",
      " [ 1.95     80.99756 ]\n",
      " [ 1.79     80.70244 ]\n",
      " [ 1.656    74.3111  ]\n",
      " [ 1.475    68.90371 ]\n",
      " [ 1.422    74.61885 ]\n",
      " [ 1.63     80.08781 ]\n",
      " [ 1.55     73.268295]\n",
      " [ 1.17     73.482925]\n",
      " [ 2.898    69.36846 ]\n",
      " [ 2.2893   69.88439 ]\n",
      " [ 2.59     68.295364]\n",
      " [ 1.4      81.73659 ]\n",
      " [ 2.07     80.291954]\n",
      " [ 2.2      81.45122 ]\n",
      " [ 1.25     74.20731 ]\n",
      " [ 1.44     80.3878  ]\n",
      " [ 1.39     79.98781 ]\n",
      " [ 1.555    73.32734 ]\n",
      " [ 2.       81.36829 ]\n",
      " [ 1.87     79.870735]\n",
      " [ 1.63     75.42927 ]\n",
      " [ 1.87     79.1     ]\n",
      " [ 1.49     77.42439 ]\n",
      " [ 1.476    79.380394]\n",
      " [ 1.46     76.47561 ]\n",
      " [ 1.46     79.832   ]\n",
      " [ 1.49     73.51219 ]\n",
      " [ 1.148    75.40044 ]\n",
      " [ 1.84     79.936584]\n",
      " [ 1.44     70.40488 ]\n",
      " [ 2.3      70.506516]\n",
      " [ 1.44     80.38293 ]\n",
      " [ 1.736    73.78356 ]\n",
      " [ 1.536    76.90095 ]\n",
      " [ 1.8      79.18944 ]\n",
      " [ 2.49     74.12732 ]\n",
      " [ 1.9856   76.23683 ]\n",
      " [ 1.639    69.755   ]\n",
      " [ 1.896    75.22212 ]\n",
      " [ 2.336    70.33532 ]\n",
      " [ 2.064    72.11253 ]\n",
      " [ 1.98     74.4399  ]\n",
      " [ 1.797    78.91329 ]\n",
      " [ 2.501    73.76498 ]\n",
      " [ 2.954    72.277   ]\n",
      " [ 2.484    75.97424 ]\n",
      " [ 2.622    73.72922 ]\n",
      " [ 2.32     76.68378 ]\n",
      " [ 2.329    72.84712 ]\n",
      " [ 3.139    72.82593 ]\n",
      " [ 3.34     61.763   ]\n",
      " [ 2.262    69.54915 ]\n",
      " [ 3.983    70.82542 ]\n",
      " [ 2.235    75.66044 ]\n",
      " [ 2.25     71.73237 ]\n",
      " [ 2.479    75.462296]\n",
      " [ 2.58     73.20003 ]\n",
      " [ 1.467    78.96415 ]\n",
      " [ 1.848    79.19261 ]\n",
      " [ 2.1      73.42968 ]\n",
      " [ 1.862    78.885735]\n",
      " [ 1.83     73.09953 ]\n",
      " [ 3.348    66.26856 ]\n",
      " [ 2.79     75.83995 ]\n",
      " [ 1.551    76.57283 ]\n",
      " [ 1.699    74.975174]\n",
      " [ 2.211    75.63215 ]\n",
      " [ 5.2      65.030464]\n",
      " [ 4.453    72.643684]\n",
      " [ 1.749    76.57361 ]\n",
      " [ 2.04     74.6     ]\n",
      " [ 2.934    75.70256 ]\n",
      " [ 2.811    73.85042 ]\n",
      " [ 2.271    78.09759 ]\n",
      " [ 2.309    73.12461 ]\n",
      " [ 2.279    71.86463 ]\n",
      " [ 1.38     80.948784]\n",
      " [ 2.564    74.75312 ]\n",
      " [ 1.8      72.40875 ]\n",
      " [ 2.295    74.60473 ]\n",
      " [ 3.8      73.28966 ]\n",
      " [ 3.03     81.504875]\n",
      " [ 4.702    68.486046]\n",
      " [ 1.67     72.751854]\n",
      " [ 2.733    72.975266]\n",
      " [ 3.75     57.52739 ]\n",
      " [ 2.54     75.02383 ]\n",
      " [ 2.264    72.85254 ]\n",
      " [ 2.1      78.24146 ]\n",
      " [ 1.677    80.797806]\n",
      " [ 1.764    79.288536]\n",
      " [ 2.313    74.72261 ]\n",
      " [ 3.423    65.19885 ]\n",
      " [ 2.727    68.39483 ]\n",
      " [ 1.752    76.551414]\n",
      " [ 2.625    65.13134 ]\n",
      " [ 2.399    66.90885 ]\n",
      " [ 2.245    68.6348  ]\n",
      " [ 6.288    48.282196]\n",
      " [ 3.29     49.860878]\n",
      " [ 6.258    48.455486]\n",
      " [ 6.149    53.614635]\n",
      " [ 4.072    56.588707]\n",
      " [ 4.896    58.160023]\n",
      " [ 5.544    57.38749 ]\n",
      " [ 3.364    48.342804]\n",
      " [ 4.4      61.108242]\n",
      " [ 2.458    52.08149 ]\n",
      " [ 6.339    50.89554 ]\n",
      " [ 4.982    47.402195]\n",
      " [ 2.5      73.03415 ]\n",
      " [ 4.819    58.954075]\n",
      " [ 5.371    55.05712 ]\n",
      " [ 5.525    51.410023]\n",
      " [ 7.063    54.265633]\n",
      " [ 3.217    62.0701  ]\n",
      " [ 4.912    49.696926]\n",
      " [ 1.47     72.967316]\n",
      " [ 4.533    58.21695 ]\n",
      " [ 6.294    50.95483 ]\n",
      " [ 5.99     53.462635]\n",
      " [ 4.651    66.46707 ]\n",
      " [ 5.238    56.147587]\n",
      " [ 3.199    47.365074]\n",
      " [ 4.718    56.497074]\n",
      " [ 5.063    47.700657]\n",
      " [ 5.246    53.638584]\n",
      " [ 4.17     63.83727 ]\n",
      " [ 3.25     62.286682]\n",
      " [ 4.193    58.7151  ]\n",
      " [ 4.453    60.994194]\n",
      " [ 5.185    50.840805]\n",
      " [ 5.775    48.069584]\n",
      " [ 4.544    56.960194]\n",
      " [ 4.919    60.626266]\n",
      " [ 5.981    49.194828]\n",
      " [ 4.631    47.61846 ]\n",
      " [ 2.405    73.77405 ]\n",
      " [ 4.487    51.062756]\n",
      " [ 4.338    49.87722 ]\n",
      " [ 5.85     54.924194]\n",
      " [ 2.75     53.109512]\n",
      " [ 5.287    55.585587]\n",
      " [ 5.443    50.65366 ]]\n"
     ]
    }
   ],
   "source": [
    "DATA_FILE = '../datasets/birth_life_2010.txt'\n",
    "\n",
    "data, n_samples = read_birth_life_data(DATA_FILE)\n",
    "print(\"data.shape: {}\\n\".format(data.shape))\n",
    "print(data)"
   ]
  },
  {
   "cell_type": "markdown",
   "metadata": {},
   "source": [
    "### `tf.data` 사용하여 dataset 만들기"
   ]
  },
  {
   "cell_type": "code",
   "execution_count": 5,
   "metadata": {},
   "outputs": [
    {
     "name": "stdout",
     "output_type": "stream",
     "text": [
      "<TensorSliceDataset shapes: ((), ()), types: (tf.float32, tf.float32)>\n"
     ]
    }
   ],
   "source": [
    "dataset = tf.data.Dataset.from_tensor_slices((data[:, 0], data[:, 1]))\n",
    "print(dataset)"
   ]
  },
  {
   "cell_type": "code",
   "execution_count": 6,
   "metadata": {},
   "outputs": [],
   "source": [
    "import tensorflow.contrib.eager as tfe"
   ]
  },
  {
   "cell_type": "markdown",
   "metadata": {},
   "source": [
    "## Phase1 : Build a graph"
   ]
  },
  {
   "cell_type": "code",
   "execution_count": 7,
   "metadata": {},
   "outputs": [],
   "source": [
    "# Create variables.\n",
    "w = tfe.Variable(0.0)\n",
    "b = tfe.Variable(0.0)\n",
    "\n",
    "# Define the linear predictor.\n",
    "def prediction(x):\n",
    "  return x * w + b\n",
    "\n",
    "# Define loss functions of the form: L(y, y_predicted)\n",
    "def squared_loss(y, y_predicted):\n",
    "  return (y - y_predicted) ** 2\n",
    "\n",
    "def huber_loss(y, y_predicted, m=1.0):\n",
    "  \"\"\"Huber loss.\"\"\"\n",
    "  t = y - y_predicted\n",
    "  # Note that enabling eager execution lets you use Python control flow and\n",
    "  # specificy dynamic TensorFlow computations. Contrast this implementation\n",
    "  # to the graph-construction one found in `utils`, which uses `tf.cond`.\n",
    "  return t ** 2 if tf.abs(t) <= m else m * (2 * tf.abs(t) - m)"
   ]
  },
  {
   "cell_type": "markdown",
   "metadata": {},
   "source": [
    "## Phase 2 : Training a model"
   ]
  },
  {
   "cell_type": "code",
   "execution_count": 8,
   "metadata": {},
   "outputs": [],
   "source": [
    "def train(loss_fn):\n",
    "  \"\"\"Train a regression model evaluated using `loss_fn`.\"\"\"\n",
    "  print('Training; loss function: ' + loss_fn.__name__)\n",
    "  optimizer = tf.train.GradientDescentOptimizer(learning_rate=0.01)\n",
    "\n",
    "  # Define the function through which to differentiate.\n",
    "  def loss_for_example(x, y):\n",
    "    return loss_fn(y, prediction(x))\n",
    "\n",
    "  # `grad_fn(x_i, y_i)` returns (1) the value of `loss_for_example`\n",
    "  # evaluated at `x_i`, `y_i` and (2) the gradients of any variables used in\n",
    "  # calculating it.\n",
    "  grad_fn = tfe.implicit_value_and_gradients(loss_for_example)\n",
    "\n",
    "  start = time.time()\n",
    "  for epoch in range(100):\n",
    "    total_loss = 0.0\n",
    "    for x_i, y_i in tfe.Iterator(dataset):\n",
    "      loss, gradients = grad_fn(x_i, y_i)\n",
    "      # Take an optimization step and update variables.\n",
    "      optimizer.apply_gradients(gradients)\n",
    "      total_loss += loss\n",
    "    if epoch % 10 == 0:\n",
    "      print('Epoch {0}: {1}'.format(epoch, total_loss / n_samples))\n",
    "  print('Took: %f seconds' % (time.time() - start))\n",
    "  print('Eager execution exhibits significant overhead per operation. '\n",
    "        'As you increase your batch size, the impact of the overhead will '\n",
    "        'become less noticeable. Eager execution is under active development: '\n",
    "        'expect performance to increase substantially in the near future!')"
   ]
  },
  {
   "cell_type": "code",
   "execution_count": 9,
   "metadata": {},
   "outputs": [
    {
     "name": "stdout",
     "output_type": "stream",
     "text": [
      "Training; loss function: huber_loss\n",
      "Epoch 0: 106.16918182373047\n",
      "Epoch 10: 53.64773178100586\n",
      "Epoch 20: 42.586669921875\n",
      "Epoch 30: 31.845298767089844\n",
      "Epoch 40: 21.576385498046875\n",
      "Epoch 50: 12.379732131958008\n",
      "Epoch 60: 8.386137962341309\n",
      "Epoch 70: 7.563107013702393\n",
      "Epoch 80: 7.398852348327637\n",
      "Epoch 90: 7.382768630981445\n",
      "Took: 17.686973 seconds\n",
      "Eager execution exhibits significant overhead per operation. As you increase your batch size, the impact of the overhead will become less noticeable. Eager execution is under active development: expect performance to increase substantially in the near future!\n"
     ]
    }
   ],
   "source": [
    "train(huber_loss)"
   ]
  },
  {
   "cell_type": "markdown",
   "metadata": {},
   "source": [
    "### Plot the result"
   ]
  },
  {
   "cell_type": "code",
   "execution_count": 10,
   "metadata": {},
   "outputs": [
    {
     "data": {
      "image/png": "[encoded data removed]",
      "text/plain": [
       "<Figure size 432x288 with 1 Axes>"
      ]
     },
     "metadata": {},
     "output_type": "display_data"
    }
   ],
   "source": [
    "plt.plot(data[:,0], data[:,1], 'bo')\n",
    "# The `.numpy()` method of a tensor retrieves the NumPy array backing it.\n",
    "# In future versions of eager, you won't need to call `.numpy()` and will\n",
    "# instead be able to, in most cases, pass Tensors wherever NumPy arrays are\n",
    "# expected.\n",
    "plt.plot(data[:,0], data[:,0] * w.numpy() + b.numpy(), 'r',\n",
    "         label=\"huber regression\")\n",
    "plt.legend()\n",
    "plt.show()"
   ]
  }
 ],
 "metadata": {
  "kernelspec": {
   "display_name": "Python 3",
   "language": "python",
   "name": "python3"
  },
  "language_info": {
   "codemirror_mode": {
    "name": "ipython",
    "version": 3
   },
   "file_extension": ".py",
   "mimetype": "text/x-python",
   "name": "python",
   "nbconvert_exporter": "python",
   "pygments_lexer": "ipython3",
   "version": "3.6.5"
  }
 },
 "nbformat": 4,
 "nbformat_minor": 2
}
