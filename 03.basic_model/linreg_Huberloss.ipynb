{
 "cells": [
  {
   "cell_type": "code",
   "execution_count": 1,
   "metadata": {},
   "outputs": [],
   "source": [
    "\"\"\" Starter code for simple linear regression example using placeholders\n",
    "Created by Chip Huyen (huyenn@cs.stanford.edu)\n",
    "CS20: \"TensorFlow for Deep Learning Research\"\n",
    "cs20.stanford.edu\n",
    "Lecture 03\n",
    "\"\"\"\n",
    "import os\n",
    "os.environ['TF_CPP_MIN_LOG_LEVEL']='2'\n",
    "import time\n",
    "\n",
    "import numpy as np\n",
    "import matplotlib.pyplot as plt\n",
    "import tensorflow as tf\n",
    "\n",
    "import utils"
   ]
  },
  {
   "cell_type": "code",
   "execution_count": 2,
   "metadata": {},
   "outputs": [],
   "source": [
    "DATA_FILE = '../data/birth_life_2010.txt'\n",
    "\n",
    "# Step 1: read in data from the .txt file\n",
    "data, n_samples = utils.read_birth_life_data(DATA_FILE)"
   ]
  },
  {
   "cell_type": "code",
   "execution_count": 3,
   "metadata": {},
   "outputs": [
    {
     "name": "stdout",
     "output_type": "stream",
     "text": [
      "(190, 2)\n",
      "190\n"
     ]
    }
   ],
   "source": [
    "print(data.shape)\n",
    "print(n_samples)"
   ]
  },
  {
   "cell_type": "code",
   "execution_count": 4,
   "metadata": {},
   "outputs": [],
   "source": [
    "# Step 2: create placeholders for X (birth rate) and Y (life expectancy)\n",
    "# Remember both X and Y are scalars with type float\n",
    "\n",
    "X = tf.placeholder(tf.float32, name=\"X\")\n",
    "Y = tf.placeholder(tf.float32, name=\"Y\")"
   ]
  },
  {
   "cell_type": "code",
   "execution_count": 5,
   "metadata": {},
   "outputs": [],
   "source": [
    "# Step 3: create weight and bias, initialized to 0.0\n",
    "# Make sure to use tf.get_variable\n",
    "#w, b = None, None\n",
    "w = tf.get_variable(\"w\", initializer=tf.constant(0.0))\n",
    "b = tf.get_variable(\"b\", initializer=tf.constant(0.0))\n",
    "#############################\n",
    "########## TO DO ############\n",
    "#############################"
   ]
  },
  {
   "cell_type": "code",
   "execution_count": 6,
   "metadata": {},
   "outputs": [],
   "source": [
    "# Step 4: build model to predict Y\n",
    "# e.g. how would you derive at Y_predicted given X, w, and b\n",
    "Y_predicted = w*X + b \n",
    "#############################\n",
    "########## TO DO ############\n",
    "#############################"
   ]
  },
  {
   "cell_type": "code",
   "execution_count": 7,
   "metadata": {},
   "outputs": [],
   "source": [
    "# Step 5: use the square error as the loss function\n",
    "# loss = None\n",
    "# loss = tf.square(Y-Y_predicted, name=\"loss\")\n",
    "def huber_loss(labels, predictions, delta=14.0):\n",
    "    residual = tf.abs(labels - predictions)\n",
    "    def f1(): return 0.5 * tf.square(residual)\n",
    "    def f2(): return delta * residual - 0.5 * tf.square(delta)\n",
    "    return tf.cond(residual < delta, f1, f2)\n",
    "loss = huber_loss(Y, Y_predicted)\n",
    "#############################\n",
    "########## TO DO ############\n",
    "#############################"
   ]
  },
  {
   "cell_type": "code",
   "execution_count": 8,
   "metadata": {},
   "outputs": [
    {
     "name": "stdout",
     "output_type": "stream",
     "text": [
      "Epoch 0: 712.5349932218853\n",
      "Epoch 1: 480.1768338768106\n",
      "Epoch 2: 411.27837095009653\n",
      "Epoch 3: 381.143803016763\n",
      "Epoch 4: 363.96519568942387\n",
      "Epoch 5: 352.0028216342001\n",
      "Epoch 6: 342.65910039112754\n",
      "Epoch 7: 334.84100784196664\n",
      "Epoch 8: 327.9518736341282\n",
      "Epoch 9: 321.63482000235666\n",
      "Epoch 10: 315.6941960449968\n",
      "Epoch 11: 310.0039571509844\n",
      "Epoch 12: 304.4644903231608\n",
      "Epoch 13: 299.0284345306064\n",
      "Epoch 14: 293.6694770147926\n",
      "Epoch 15: 288.3639233997778\n",
      "Epoch 16: 283.0933333819634\n",
      "Epoch 17: 277.85644171355585\n",
      "Epoch 18: 272.6439291345446\n",
      "Epoch 19: 267.44677355952166\n",
      "Epoch 20: 262.2604390375855\n",
      "Epoch 21: 257.0869516860634\n",
      "Epoch 22: 251.93409620844758\n",
      "Epoch 23: 246.7978311511443\n",
      "Epoch 24: 241.68042829000441\n",
      "Epoch 25: 236.58249802497158\n",
      "Epoch 26: 231.50381602431207\n",
      "Epoch 27: 226.4469073355737\n",
      "Epoch 28: 221.41355832310785\n",
      "Epoch 29: 216.40122747868298\n",
      "Epoch 30: 211.41857506291646\n",
      "Epoch 31: 206.4636872577824\n",
      "Epoch 32: 201.5256608824981\n",
      "Epoch 33: 196.60663773480215\n",
      "Epoch 34: 191.69949661995236\n",
      "Epoch 35: 186.81957386904642\n",
      "Epoch 36: 181.97026195526124\n",
      "Epoch 37: 177.15822704340283\n",
      "Epoch 38: 172.36515824982993\n",
      "Epoch 39: 167.59127469086334\n",
      "Epoch 40: 162.8461132945983\n",
      "Epoch 41: 158.1302945310348\n",
      "Epoch 42: 153.4446832491379\n",
      "Epoch 43: 148.78938361339664\n",
      "Epoch 44: 144.17467782383687\n",
      "Epoch 45: 139.59350521709572\n",
      "Epoch 46: 135.0799269277359\n",
      "Epoch 47: 130.61376950433967\n",
      "Epoch 48: 126.20577719486073\n",
      "Epoch 49: 121.83948346442224\n",
      "Epoch 50: 117.53008066379407\n",
      "Epoch 51: 113.27451417348163\n",
      "Epoch 52: 109.09293648436372\n",
      "Epoch 53: 104.98878251981422\n",
      "Epoch 54: 100.96831291019916\n",
      "Epoch 55: 97.04090007381073\n",
      "Epoch 56: 93.20598697668848\n",
      "Epoch 57: 89.44805010246407\n",
      "Epoch 58: 85.79511913707185\n",
      "Epoch 59: 82.24485294783587\n",
      "Epoch 60: 78.81007368673913\n",
      "Epoch 61: 75.46468300612055\n",
      "Epoch 62: 72.22824628802114\n",
      "Epoch 63: 69.0970203716504\n",
      "Epoch 64: 66.07316139007085\n",
      "Epoch 65: 63.17249699153364\n",
      "Epoch 66: 60.39144998395717\n",
      "Epoch 67: 57.732441508548185\n",
      "Epoch 68: 55.18886458672289\n",
      "Epoch 69: 52.765521257783064\n",
      "Epoch 70: 50.44132069787501\n",
      "Epoch 71: 48.232464265970414\n",
      "Epoch 72: 46.147971851262916\n",
      "Epoch 73: 44.156567127835984\n",
      "Epoch 74: 42.26910537076428\n",
      "Epoch 75: 40.4945643139905\n",
      "Epoch 76: 38.82137201415179\n",
      "Epoch 77: 37.26528371417601\n",
      "Epoch 78: 35.80452302174741\n",
      "Epoch 79: 34.42864761231957\n",
      "Epoch 80: 33.14079166570399\n",
      "Epoch 81: 31.935278984857725\n",
      "Epoch 82: 30.806799320126025\n",
      "Epoch 83: 29.74883725124926\n",
      "Epoch 84: 28.75753059838163\n",
      "Epoch 85: 27.828843814313508\n",
      "Epoch 86: 26.95892982277774\n",
      "Epoch 87: 26.143821478840945\n",
      "Epoch 88: 25.38612711686935\n",
      "Epoch 89: 24.68093857832351\n",
      "Epoch 90: 24.01969862843781\n",
      "Epoch 91: 23.411343748113875\n",
      "Epoch 92: 22.841170396880205\n",
      "Epoch 93: 22.30823898453535\n",
      "Epoch 94: 21.810646478993522\n",
      "Epoch 95: 21.345948342074593\n",
      "Epoch 96: 20.91201211649214\n",
      "Epoch 97: 20.5068725735208\n",
      "Epoch 98: 20.12850519813058\n",
      "Epoch 99: 19.7766584059922\n",
      "Took: 6.442173 seconds\n"
     ]
    }
   ],
   "source": [
    "# Step 6: using gradient descent with learning rate of 0.001 to minimize loss\n",
    "optimizer = tf.train.GradientDescentOptimizer(learning_rate=0.001).minimize(loss)\n",
    "\n",
    "start = time.time()\n",
    "\n",
    "# Create a filewriter to write the model's graph to TensorBoard\n",
    "#############################\n",
    "########## TO DO ############\n",
    "#############################\n",
    "writer = tf.summary.FileWriter(\"./huber_loss\", graph=tf.get_default_graph())\n",
    "tf.summary.scalar(\"loss\",loss)\n",
    "\n",
    "with tf.Session() as sess:\n",
    "    # Step 7: initialize the necessary variables, in this case, w and b\n",
    "    #############################\n",
    "    ########## TO DO ############\n",
    "    #############################\n",
    "    sess.run(tf.global_variables_initializer())\n",
    "    \n",
    "#     sess.run(tf.variables_initializer([w,b]))\n",
    "\n",
    "    # Step 8: train the model for 100 epochs\n",
    "    for i in range(100):\n",
    "        total_loss = 0\n",
    "        for x, y in data:\n",
    "            # Execute train_op and get the value of loss.\n",
    "            # Don't forget to feed in data for placeholders\n",
    "            _, l = sess.run([optimizer, loss], feed_dict={X:x, Y:y})\n",
    "#             writer.add_summary(loss, i)\n",
    "            total_loss += l\n",
    "\n",
    "        print('Epoch {0}: {1}'.format(i, total_loss/n_samples))\n",
    "\n",
    "    # close the writer when you're done using it\n",
    "    #############################\n",
    "    ########## TO DO ############\n",
    "    #############################\n",
    "    writer.close()\n",
    "    \n",
    "    # Step 9: output the values of w and b\n",
    "    w_out, b_out = sess.run([w,b])\n",
    "    #############################\n",
    "    ########## TO DO ############\n",
    "    #############################\n",
    "\n",
    "print('Took: %f seconds' %(time.time() - start))\n",
    "print('test')"
   ]
  },
  {
   "cell_type": "code",
   "execution_count": 9,
   "metadata": {},
   "outputs": [
    {
     "data": {
      "image/png": "[encoded data removed]",
      "text/plain": [
       "<Figure size 432x288 with 1 Axes>"
      ]
     },
     "metadata": {
      "needs_background": "light"
     },
     "output_type": "display_data"
    }
   ],
   "source": [
    "# uncomment the following lines to see the plot \n",
    "plt.plot(data[:,0], data[:,1], 'bo', label='Real data')\n",
    "plt.plot(data[:,0], data[:,0] * w_out + b_out, 'r', label='Predicted data')\n",
    "plt.legend()\n",
    "plt.show()"
   ]
  },
  {
   "cell_type": "code",
   "execution_count": null,
   "metadata": {},
   "outputs": [],
   "source": []
  }
 ],
 "metadata": {
  "kernelspec": {
   "display_name": "Python 3",
   "language": "python",
   "name": "python3"
  },
  "language_info": {
   "codemirror_mode": {
    "name": "ipython",
    "version": 3
   },
   "file_extension": ".py",
   "mimetype": "text/x-python",
   "name": "python",
   "nbconvert_exporter": "python",
   "pygments_lexer": "ipython3",
   "version": "3.6.6"
  }
 },
 "nbformat": 4,
 "nbformat_minor": 2
}
